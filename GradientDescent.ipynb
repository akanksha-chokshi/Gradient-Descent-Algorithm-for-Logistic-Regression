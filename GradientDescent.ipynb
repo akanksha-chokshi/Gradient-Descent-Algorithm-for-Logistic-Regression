{
 "cells": [
  {
   "cell_type": "markdown",
   "metadata": {},
   "source": [
    "### Question.4 Gradient Descent\n",
    "#### Submitted by:Apurva Nikade"
   ]
  },
  {
   "cell_type": "code",
   "execution_count": 353,
   "metadata": {},
   "outputs": [],
   "source": [
    "#Load required libraries\n",
    "import pandas as pd\n",
    "import numpy as np\n",
    "import math"
   ]
  },
  {
   "cell_type": "code",
   "execution_count": 354,
   "metadata": {},
   "outputs": [],
   "source": [
    "#load SAHeart csv file\n",
    "SAHeart_df = pd.read_csv('SAHeart.csv')"
   ]
  },
  {
   "cell_type": "code",
   "execution_count": 355,
   "metadata": {},
   "outputs": [
    {
     "data": {
      "text/html": [
       "<div>\n",
       "<style>\n",
       "    .dataframe thead tr:only-child th {\n",
       "        text-align: right;\n",
       "    }\n",
       "\n",
       "    .dataframe thead th {\n",
       "        text-align: left;\n",
       "    }\n",
       "\n",
       "    .dataframe tbody tr th {\n",
       "        vertical-align: top;\n",
       "    }\n",
       "</style>\n",
       "<table border=\"1\" class=\"dataframe\">\n",
       "  <thead>\n",
       "    <tr style=\"text-align: right;\">\n",
       "      <th></th>\n",
       "      <th>row.names</th>\n",
       "      <th>sbp</th>\n",
       "      <th>tobacco</th>\n",
       "      <th>ldl</th>\n",
       "      <th>adiposity</th>\n",
       "      <th>famhist</th>\n",
       "      <th>typea</th>\n",
       "      <th>obesity</th>\n",
       "      <th>alcohol</th>\n",
       "      <th>age</th>\n",
       "      <th>chd</th>\n",
       "    </tr>\n",
       "  </thead>\n",
       "  <tbody>\n",
       "    <tr>\n",
       "      <th>0</th>\n",
       "      <td>1</td>\n",
       "      <td>160</td>\n",
       "      <td>12.00</td>\n",
       "      <td>5.73</td>\n",
       "      <td>23.11</td>\n",
       "      <td>Present</td>\n",
       "      <td>49</td>\n",
       "      <td>25.30</td>\n",
       "      <td>97.20</td>\n",
       "      <td>52</td>\n",
       "      <td>1</td>\n",
       "    </tr>\n",
       "    <tr>\n",
       "      <th>1</th>\n",
       "      <td>2</td>\n",
       "      <td>144</td>\n",
       "      <td>0.01</td>\n",
       "      <td>4.41</td>\n",
       "      <td>28.61</td>\n",
       "      <td>Absent</td>\n",
       "      <td>55</td>\n",
       "      <td>28.87</td>\n",
       "      <td>2.06</td>\n",
       "      <td>63</td>\n",
       "      <td>1</td>\n",
       "    </tr>\n",
       "    <tr>\n",
       "      <th>2</th>\n",
       "      <td>3</td>\n",
       "      <td>118</td>\n",
       "      <td>0.08</td>\n",
       "      <td>3.48</td>\n",
       "      <td>32.28</td>\n",
       "      <td>Present</td>\n",
       "      <td>52</td>\n",
       "      <td>29.14</td>\n",
       "      <td>3.81</td>\n",
       "      <td>46</td>\n",
       "      <td>0</td>\n",
       "    </tr>\n",
       "    <tr>\n",
       "      <th>3</th>\n",
       "      <td>4</td>\n",
       "      <td>170</td>\n",
       "      <td>7.50</td>\n",
       "      <td>6.41</td>\n",
       "      <td>38.03</td>\n",
       "      <td>Present</td>\n",
       "      <td>51</td>\n",
       "      <td>31.99</td>\n",
       "      <td>24.26</td>\n",
       "      <td>58</td>\n",
       "      <td>1</td>\n",
       "    </tr>\n",
       "    <tr>\n",
       "      <th>4</th>\n",
       "      <td>5</td>\n",
       "      <td>134</td>\n",
       "      <td>13.60</td>\n",
       "      <td>3.50</td>\n",
       "      <td>27.78</td>\n",
       "      <td>Present</td>\n",
       "      <td>60</td>\n",
       "      <td>25.99</td>\n",
       "      <td>57.34</td>\n",
       "      <td>49</td>\n",
       "      <td>1</td>\n",
       "    </tr>\n",
       "    <tr>\n",
       "      <th>5</th>\n",
       "      <td>6</td>\n",
       "      <td>132</td>\n",
       "      <td>6.20</td>\n",
       "      <td>6.47</td>\n",
       "      <td>36.21</td>\n",
       "      <td>Present</td>\n",
       "      <td>62</td>\n",
       "      <td>30.77</td>\n",
       "      <td>14.14</td>\n",
       "      <td>45</td>\n",
       "      <td>0</td>\n",
       "    </tr>\n",
       "    <tr>\n",
       "      <th>6</th>\n",
       "      <td>7</td>\n",
       "      <td>142</td>\n",
       "      <td>4.05</td>\n",
       "      <td>3.38</td>\n",
       "      <td>16.20</td>\n",
       "      <td>Absent</td>\n",
       "      <td>59</td>\n",
       "      <td>20.81</td>\n",
       "      <td>2.62</td>\n",
       "      <td>38</td>\n",
       "      <td>0</td>\n",
       "    </tr>\n",
       "    <tr>\n",
       "      <th>7</th>\n",
       "      <td>8</td>\n",
       "      <td>114</td>\n",
       "      <td>4.08</td>\n",
       "      <td>4.59</td>\n",
       "      <td>14.60</td>\n",
       "      <td>Present</td>\n",
       "      <td>62</td>\n",
       "      <td>23.11</td>\n",
       "      <td>6.72</td>\n",
       "      <td>58</td>\n",
       "      <td>1</td>\n",
       "    </tr>\n",
       "    <tr>\n",
       "      <th>8</th>\n",
       "      <td>9</td>\n",
       "      <td>114</td>\n",
       "      <td>0.00</td>\n",
       "      <td>3.83</td>\n",
       "      <td>19.40</td>\n",
       "      <td>Present</td>\n",
       "      <td>49</td>\n",
       "      <td>24.86</td>\n",
       "      <td>2.49</td>\n",
       "      <td>29</td>\n",
       "      <td>0</td>\n",
       "    </tr>\n",
       "    <tr>\n",
       "      <th>9</th>\n",
       "      <td>10</td>\n",
       "      <td>132</td>\n",
       "      <td>0.00</td>\n",
       "      <td>5.80</td>\n",
       "      <td>30.96</td>\n",
       "      <td>Present</td>\n",
       "      <td>69</td>\n",
       "      <td>30.11</td>\n",
       "      <td>0.00</td>\n",
       "      <td>53</td>\n",
       "      <td>1</td>\n",
       "    </tr>\n",
       "  </tbody>\n",
       "</table>\n",
       "</div>"
      ],
      "text/plain": [
       "   row.names  sbp  tobacco   ldl  adiposity  famhist  typea  obesity  alcohol  \\\n",
       "0          1  160    12.00  5.73      23.11  Present     49    25.30    97.20   \n",
       "1          2  144     0.01  4.41      28.61   Absent     55    28.87     2.06   \n",
       "2          3  118     0.08  3.48      32.28  Present     52    29.14     3.81   \n",
       "3          4  170     7.50  6.41      38.03  Present     51    31.99    24.26   \n",
       "4          5  134    13.60  3.50      27.78  Present     60    25.99    57.34   \n",
       "5          6  132     6.20  6.47      36.21  Present     62    30.77    14.14   \n",
       "6          7  142     4.05  3.38      16.20   Absent     59    20.81     2.62   \n",
       "7          8  114     4.08  4.59      14.60  Present     62    23.11     6.72   \n",
       "8          9  114     0.00  3.83      19.40  Present     49    24.86     2.49   \n",
       "9         10  132     0.00  5.80      30.96  Present     69    30.11     0.00   \n",
       "\n",
       "   age  chd  \n",
       "0   52    1  \n",
       "1   63    1  \n",
       "2   46    0  \n",
       "3   58    1  \n",
       "4   49    1  \n",
       "5   45    0  \n",
       "6   38    0  \n",
       "7   58    1  \n",
       "8   29    0  \n",
       "9   53    1  "
      ]
     },
     "execution_count": 355,
     "metadata": {},
     "output_type": "execute_result"
    }
   ],
   "source": [
    "SAHeart_df.head(10)\n"
   ]
  },
  {
   "cell_type": "markdown",
   "metadata": {},
   "source": [
    "#### Q.4 a) Encode the categorical variable"
   ]
  },
  {
   "cell_type": "code",
   "execution_count": 356,
   "metadata": {},
   "outputs": [],
   "source": [
    "SAHeart_df['famhist']= pd.get_dummies(SAHeart_df['famhist'])"
   ]
  },
  {
   "cell_type": "code",
   "execution_count": 357,
   "metadata": {},
   "outputs": [
    {
     "data": {
      "text/html": [
       "<div>\n",
       "<style>\n",
       "    .dataframe thead tr:only-child th {\n",
       "        text-align: right;\n",
       "    }\n",
       "\n",
       "    .dataframe thead th {\n",
       "        text-align: left;\n",
       "    }\n",
       "\n",
       "    .dataframe tbody tr th {\n",
       "        vertical-align: top;\n",
       "    }\n",
       "</style>\n",
       "<table border=\"1\" class=\"dataframe\">\n",
       "  <thead>\n",
       "    <tr style=\"text-align: right;\">\n",
       "      <th></th>\n",
       "      <th>row.names</th>\n",
       "      <th>sbp</th>\n",
       "      <th>tobacco</th>\n",
       "      <th>ldl</th>\n",
       "      <th>adiposity</th>\n",
       "      <th>famhist</th>\n",
       "      <th>typea</th>\n",
       "      <th>obesity</th>\n",
       "      <th>alcohol</th>\n",
       "      <th>age</th>\n",
       "      <th>chd</th>\n",
       "    </tr>\n",
       "  </thead>\n",
       "  <tbody>\n",
       "    <tr>\n",
       "      <th>0</th>\n",
       "      <td>1</td>\n",
       "      <td>160</td>\n",
       "      <td>12.00</td>\n",
       "      <td>5.73</td>\n",
       "      <td>23.11</td>\n",
       "      <td>0</td>\n",
       "      <td>49</td>\n",
       "      <td>25.30</td>\n",
       "      <td>97.20</td>\n",
       "      <td>52</td>\n",
       "      <td>1</td>\n",
       "    </tr>\n",
       "    <tr>\n",
       "      <th>1</th>\n",
       "      <td>2</td>\n",
       "      <td>144</td>\n",
       "      <td>0.01</td>\n",
       "      <td>4.41</td>\n",
       "      <td>28.61</td>\n",
       "      <td>1</td>\n",
       "      <td>55</td>\n",
       "      <td>28.87</td>\n",
       "      <td>2.06</td>\n",
       "      <td>63</td>\n",
       "      <td>1</td>\n",
       "    </tr>\n",
       "    <tr>\n",
       "      <th>2</th>\n",
       "      <td>3</td>\n",
       "      <td>118</td>\n",
       "      <td>0.08</td>\n",
       "      <td>3.48</td>\n",
       "      <td>32.28</td>\n",
       "      <td>0</td>\n",
       "      <td>52</td>\n",
       "      <td>29.14</td>\n",
       "      <td>3.81</td>\n",
       "      <td>46</td>\n",
       "      <td>0</td>\n",
       "    </tr>\n",
       "    <tr>\n",
       "      <th>3</th>\n",
       "      <td>4</td>\n",
       "      <td>170</td>\n",
       "      <td>7.50</td>\n",
       "      <td>6.41</td>\n",
       "      <td>38.03</td>\n",
       "      <td>0</td>\n",
       "      <td>51</td>\n",
       "      <td>31.99</td>\n",
       "      <td>24.26</td>\n",
       "      <td>58</td>\n",
       "      <td>1</td>\n",
       "    </tr>\n",
       "    <tr>\n",
       "      <th>4</th>\n",
       "      <td>5</td>\n",
       "      <td>134</td>\n",
       "      <td>13.60</td>\n",
       "      <td>3.50</td>\n",
       "      <td>27.78</td>\n",
       "      <td>0</td>\n",
       "      <td>60</td>\n",
       "      <td>25.99</td>\n",
       "      <td>57.34</td>\n",
       "      <td>49</td>\n",
       "      <td>1</td>\n",
       "    </tr>\n",
       "    <tr>\n",
       "      <th>5</th>\n",
       "      <td>6</td>\n",
       "      <td>132</td>\n",
       "      <td>6.20</td>\n",
       "      <td>6.47</td>\n",
       "      <td>36.21</td>\n",
       "      <td>0</td>\n",
       "      <td>62</td>\n",
       "      <td>30.77</td>\n",
       "      <td>14.14</td>\n",
       "      <td>45</td>\n",
       "      <td>0</td>\n",
       "    </tr>\n",
       "    <tr>\n",
       "      <th>6</th>\n",
       "      <td>7</td>\n",
       "      <td>142</td>\n",
       "      <td>4.05</td>\n",
       "      <td>3.38</td>\n",
       "      <td>16.20</td>\n",
       "      <td>1</td>\n",
       "      <td>59</td>\n",
       "      <td>20.81</td>\n",
       "      <td>2.62</td>\n",
       "      <td>38</td>\n",
       "      <td>0</td>\n",
       "    </tr>\n",
       "    <tr>\n",
       "      <th>7</th>\n",
       "      <td>8</td>\n",
       "      <td>114</td>\n",
       "      <td>4.08</td>\n",
       "      <td>4.59</td>\n",
       "      <td>14.60</td>\n",
       "      <td>0</td>\n",
       "      <td>62</td>\n",
       "      <td>23.11</td>\n",
       "      <td>6.72</td>\n",
       "      <td>58</td>\n",
       "      <td>1</td>\n",
       "    </tr>\n",
       "    <tr>\n",
       "      <th>8</th>\n",
       "      <td>9</td>\n",
       "      <td>114</td>\n",
       "      <td>0.00</td>\n",
       "      <td>3.83</td>\n",
       "      <td>19.40</td>\n",
       "      <td>0</td>\n",
       "      <td>49</td>\n",
       "      <td>24.86</td>\n",
       "      <td>2.49</td>\n",
       "      <td>29</td>\n",
       "      <td>0</td>\n",
       "    </tr>\n",
       "    <tr>\n",
       "      <th>9</th>\n",
       "      <td>10</td>\n",
       "      <td>132</td>\n",
       "      <td>0.00</td>\n",
       "      <td>5.80</td>\n",
       "      <td>30.96</td>\n",
       "      <td>0</td>\n",
       "      <td>69</td>\n",
       "      <td>30.11</td>\n",
       "      <td>0.00</td>\n",
       "      <td>53</td>\n",
       "      <td>1</td>\n",
       "    </tr>\n",
       "  </tbody>\n",
       "</table>\n",
       "</div>"
      ],
      "text/plain": [
       "   row.names  sbp  tobacco   ldl  adiposity  famhist  typea  obesity  alcohol  \\\n",
       "0          1  160    12.00  5.73      23.11        0     49    25.30    97.20   \n",
       "1          2  144     0.01  4.41      28.61        1     55    28.87     2.06   \n",
       "2          3  118     0.08  3.48      32.28        0     52    29.14     3.81   \n",
       "3          4  170     7.50  6.41      38.03        0     51    31.99    24.26   \n",
       "4          5  134    13.60  3.50      27.78        0     60    25.99    57.34   \n",
       "5          6  132     6.20  6.47      36.21        0     62    30.77    14.14   \n",
       "6          7  142     4.05  3.38      16.20        1     59    20.81     2.62   \n",
       "7          8  114     4.08  4.59      14.60        0     62    23.11     6.72   \n",
       "8          9  114     0.00  3.83      19.40        0     49    24.86     2.49   \n",
       "9         10  132     0.00  5.80      30.96        0     69    30.11     0.00   \n",
       "\n",
       "   age  chd  \n",
       "0   52    1  \n",
       "1   63    1  \n",
       "2   46    0  \n",
       "3   58    1  \n",
       "4   49    1  \n",
       "5   45    0  \n",
       "6   38    0  \n",
       "7   58    1  \n",
       "8   29    0  \n",
       "9   53    1  "
      ]
     },
     "execution_count": 357,
     "metadata": {},
     "output_type": "execute_result"
    }
   ],
   "source": [
    "SAHeart_df.head(10)\n"
   ]
  },
  {
   "cell_type": "code",
   "execution_count": 358,
   "metadata": {},
   "outputs": [],
   "source": [
    "X = (SAHeart_df[['famhist','sbp','tobacco','ldl','adiposity','typea','obesity','alcohol','age']])"
   ]
  },
  {
   "cell_type": "code",
   "execution_count": 359,
   "metadata": {},
   "outputs": [
    {
     "data": {
      "text/html": [
       "<div>\n",
       "<style>\n",
       "    .dataframe thead tr:only-child th {\n",
       "        text-align: right;\n",
       "    }\n",
       "\n",
       "    .dataframe thead th {\n",
       "        text-align: left;\n",
       "    }\n",
       "\n",
       "    .dataframe tbody tr th {\n",
       "        vertical-align: top;\n",
       "    }\n",
       "</style>\n",
       "<table border=\"1\" class=\"dataframe\">\n",
       "  <thead>\n",
       "    <tr style=\"text-align: right;\">\n",
       "      <th></th>\n",
       "      <th>famhist</th>\n",
       "      <th>sbp</th>\n",
       "      <th>tobacco</th>\n",
       "      <th>ldl</th>\n",
       "      <th>adiposity</th>\n",
       "      <th>typea</th>\n",
       "      <th>obesity</th>\n",
       "      <th>alcohol</th>\n",
       "      <th>age</th>\n",
       "    </tr>\n",
       "  </thead>\n",
       "  <tbody>\n",
       "    <tr>\n",
       "      <th>0</th>\n",
       "      <td>0</td>\n",
       "      <td>160</td>\n",
       "      <td>12.00</td>\n",
       "      <td>5.73</td>\n",
       "      <td>23.11</td>\n",
       "      <td>49</td>\n",
       "      <td>25.30</td>\n",
       "      <td>97.20</td>\n",
       "      <td>52</td>\n",
       "    </tr>\n",
       "    <tr>\n",
       "      <th>1</th>\n",
       "      <td>1</td>\n",
       "      <td>144</td>\n",
       "      <td>0.01</td>\n",
       "      <td>4.41</td>\n",
       "      <td>28.61</td>\n",
       "      <td>55</td>\n",
       "      <td>28.87</td>\n",
       "      <td>2.06</td>\n",
       "      <td>63</td>\n",
       "    </tr>\n",
       "    <tr>\n",
       "      <th>2</th>\n",
       "      <td>0</td>\n",
       "      <td>118</td>\n",
       "      <td>0.08</td>\n",
       "      <td>3.48</td>\n",
       "      <td>32.28</td>\n",
       "      <td>52</td>\n",
       "      <td>29.14</td>\n",
       "      <td>3.81</td>\n",
       "      <td>46</td>\n",
       "    </tr>\n",
       "    <tr>\n",
       "      <th>3</th>\n",
       "      <td>0</td>\n",
       "      <td>170</td>\n",
       "      <td>7.50</td>\n",
       "      <td>6.41</td>\n",
       "      <td>38.03</td>\n",
       "      <td>51</td>\n",
       "      <td>31.99</td>\n",
       "      <td>24.26</td>\n",
       "      <td>58</td>\n",
       "    </tr>\n",
       "    <tr>\n",
       "      <th>4</th>\n",
       "      <td>0</td>\n",
       "      <td>134</td>\n",
       "      <td>13.60</td>\n",
       "      <td>3.50</td>\n",
       "      <td>27.78</td>\n",
       "      <td>60</td>\n",
       "      <td>25.99</td>\n",
       "      <td>57.34</td>\n",
       "      <td>49</td>\n",
       "    </tr>\n",
       "  </tbody>\n",
       "</table>\n",
       "</div>"
      ],
      "text/plain": [
       "   famhist  sbp  tobacco   ldl  adiposity  typea  obesity  alcohol  age\n",
       "0        0  160    12.00  5.73      23.11     49    25.30    97.20   52\n",
       "1        1  144     0.01  4.41      28.61     55    28.87     2.06   63\n",
       "2        0  118     0.08  3.48      32.28     52    29.14     3.81   46\n",
       "3        0  170     7.50  6.41      38.03     51    31.99    24.26   58\n",
       "4        0  134    13.60  3.50      27.78     60    25.99    57.34   49"
      ]
     },
     "execution_count": 359,
     "metadata": {},
     "output_type": "execute_result"
    }
   ],
   "source": [
    "X[0:5]\n"
   ]
  },
  {
   "cell_type": "code",
   "execution_count": 360,
   "metadata": {},
   "outputs": [],
   "source": [
    "Y = np.array(SAHeart_df[['chd']])\n",
    "#Y = (SAHeart_df[['chd']])\n",
    "#print(len(Y))"
   ]
  },
  {
   "cell_type": "code",
   "execution_count": 361,
   "metadata": {},
   "outputs": [
    {
     "data": {
      "text/plain": [
       "array([[1],\n",
       "       [1],\n",
       "       [0],\n",
       "       [1],\n",
       "       [1]], dtype=int64)"
      ]
     },
     "execution_count": 361,
     "metadata": {},
     "output_type": "execute_result"
    }
   ],
   "source": [
    "Y[0:5]"
   ]
  },
  {
   "cell_type": "code",
   "execution_count": 362,
   "metadata": {},
   "outputs": [
    {
     "data": {
      "text/html": [
       "<div>\n",
       "<style>\n",
       "    .dataframe thead tr:only-child th {\n",
       "        text-align: right;\n",
       "    }\n",
       "\n",
       "    .dataframe thead th {\n",
       "        text-align: left;\n",
       "    }\n",
       "\n",
       "    .dataframe tbody tr th {\n",
       "        vertical-align: top;\n",
       "    }\n",
       "</style>\n",
       "<table border=\"1\" class=\"dataframe\">\n",
       "  <thead>\n",
       "    <tr style=\"text-align: right;\">\n",
       "      <th></th>\n",
       "      <th>sbp</th>\n",
       "      <th>tobacco</th>\n",
       "      <th>ldl</th>\n",
       "      <th>adiposity</th>\n",
       "      <th>typea</th>\n",
       "      <th>obesity</th>\n",
       "      <th>alcohol</th>\n",
       "      <th>age</th>\n",
       "    </tr>\n",
       "  </thead>\n",
       "  <tbody>\n",
       "    <tr>\n",
       "      <th>0</th>\n",
       "      <td>160</td>\n",
       "      <td>12.00</td>\n",
       "      <td>5.73</td>\n",
       "      <td>23.11</td>\n",
       "      <td>49</td>\n",
       "      <td>25.30</td>\n",
       "      <td>97.20</td>\n",
       "      <td>52</td>\n",
       "    </tr>\n",
       "    <tr>\n",
       "      <th>1</th>\n",
       "      <td>144</td>\n",
       "      <td>0.01</td>\n",
       "      <td>4.41</td>\n",
       "      <td>28.61</td>\n",
       "      <td>55</td>\n",
       "      <td>28.87</td>\n",
       "      <td>2.06</td>\n",
       "      <td>63</td>\n",
       "    </tr>\n",
       "    <tr>\n",
       "      <th>2</th>\n",
       "      <td>118</td>\n",
       "      <td>0.08</td>\n",
       "      <td>3.48</td>\n",
       "      <td>32.28</td>\n",
       "      <td>52</td>\n",
       "      <td>29.14</td>\n",
       "      <td>3.81</td>\n",
       "      <td>46</td>\n",
       "    </tr>\n",
       "    <tr>\n",
       "      <th>3</th>\n",
       "      <td>170</td>\n",
       "      <td>7.50</td>\n",
       "      <td>6.41</td>\n",
       "      <td>38.03</td>\n",
       "      <td>51</td>\n",
       "      <td>31.99</td>\n",
       "      <td>24.26</td>\n",
       "      <td>58</td>\n",
       "    </tr>\n",
       "    <tr>\n",
       "      <th>4</th>\n",
       "      <td>134</td>\n",
       "      <td>13.60</td>\n",
       "      <td>3.50</td>\n",
       "      <td>27.78</td>\n",
       "      <td>60</td>\n",
       "      <td>25.99</td>\n",
       "      <td>57.34</td>\n",
       "      <td>49</td>\n",
       "    </tr>\n",
       "    <tr>\n",
       "      <th>5</th>\n",
       "      <td>132</td>\n",
       "      <td>6.20</td>\n",
       "      <td>6.47</td>\n",
       "      <td>36.21</td>\n",
       "      <td>62</td>\n",
       "      <td>30.77</td>\n",
       "      <td>14.14</td>\n",
       "      <td>45</td>\n",
       "    </tr>\n",
       "    <tr>\n",
       "      <th>6</th>\n",
       "      <td>142</td>\n",
       "      <td>4.05</td>\n",
       "      <td>3.38</td>\n",
       "      <td>16.20</td>\n",
       "      <td>59</td>\n",
       "      <td>20.81</td>\n",
       "      <td>2.62</td>\n",
       "      <td>38</td>\n",
       "    </tr>\n",
       "    <tr>\n",
       "      <th>7</th>\n",
       "      <td>114</td>\n",
       "      <td>4.08</td>\n",
       "      <td>4.59</td>\n",
       "      <td>14.60</td>\n",
       "      <td>62</td>\n",
       "      <td>23.11</td>\n",
       "      <td>6.72</td>\n",
       "      <td>58</td>\n",
       "    </tr>\n",
       "    <tr>\n",
       "      <th>8</th>\n",
       "      <td>114</td>\n",
       "      <td>0.00</td>\n",
       "      <td>3.83</td>\n",
       "      <td>19.40</td>\n",
       "      <td>49</td>\n",
       "      <td>24.86</td>\n",
       "      <td>2.49</td>\n",
       "      <td>29</td>\n",
       "    </tr>\n",
       "    <tr>\n",
       "      <th>9</th>\n",
       "      <td>132</td>\n",
       "      <td>0.00</td>\n",
       "      <td>5.80</td>\n",
       "      <td>30.96</td>\n",
       "      <td>69</td>\n",
       "      <td>30.11</td>\n",
       "      <td>0.00</td>\n",
       "      <td>53</td>\n",
       "    </tr>\n",
       "  </tbody>\n",
       "</table>\n",
       "</div>"
      ],
      "text/plain": [
       "   sbp  tobacco   ldl  adiposity  typea  obesity  alcohol  age\n",
       "0  160    12.00  5.73      23.11     49    25.30    97.20   52\n",
       "1  144     0.01  4.41      28.61     55    28.87     2.06   63\n",
       "2  118     0.08  3.48      32.28     52    29.14     3.81   46\n",
       "3  170     7.50  6.41      38.03     51    31.99    24.26   58\n",
       "4  134    13.60  3.50      27.78     60    25.99    57.34   49\n",
       "5  132     6.20  6.47      36.21     62    30.77    14.14   45\n",
       "6  142     4.05  3.38      16.20     59    20.81     2.62   38\n",
       "7  114     4.08  4.59      14.60     62    23.11     6.72   58\n",
       "8  114     0.00  3.83      19.40     49    24.86     2.49   29\n",
       "9  132     0.00  5.80      30.96     69    30.11     0.00   53"
      ]
     },
     "execution_count": 362,
     "metadata": {},
     "output_type": "execute_result"
    }
   ],
   "source": [
    "cols_to_Normal = ['sbp','tobacco','ldl','adiposity','typea','obesity','alcohol','age']\n",
    "\n",
    "X_new= X[cols_to_Normal]\n",
    "X_new.head(10)"
   ]
  },
  {
   "cell_type": "markdown",
   "metadata": {},
   "source": [
    "#### Q4.b) Normalise the dimension"
   ]
  },
  {
   "cell_type": "code",
   "execution_count": 363,
   "metadata": {},
   "outputs": [],
   "source": [
    "X_new = X_new[cols_to_Normal].apply( lambda rec:(rec - rec.mean())/rec.std(), axis =0)"
   ]
  },
  {
   "cell_type": "code",
   "execution_count": 364,
   "metadata": {},
   "outputs": [
    {
     "data": {
      "text/plain": [
       "pandas.core.frame.DataFrame"
      ]
     },
     "execution_count": 364,
     "metadata": {},
     "output_type": "execute_result"
    }
   ],
   "source": [
    "\n",
    "type(X_new)"
   ]
  },
  {
   "cell_type": "code",
   "execution_count": 365,
   "metadata": {},
   "outputs": [],
   "source": [
    "X_new['famhist'] = SAHeart_df['famhist']"
   ]
  },
  {
   "cell_type": "code",
   "execution_count": 366,
   "metadata": {},
   "outputs": [
    {
     "data": {
      "text/plain": [
       "['sbp',\n",
       " 'tobacco',\n",
       " 'ldl',\n",
       " 'adiposity',\n",
       " 'typea',\n",
       " 'obesity',\n",
       " 'alcohol',\n",
       " 'age',\n",
       " 'famhist']"
      ]
     },
     "execution_count": 366,
     "metadata": {},
     "output_type": "execute_result"
    }
   ],
   "source": [
    "X_new.head(10)\n",
    "list(X_new)"
   ]
  },
  {
   "cell_type": "code",
   "execution_count": 367,
   "metadata": {},
   "outputs": [
    {
     "data": {
      "text/plain": [
       "array([[ 1.05741729,  1.8210988 ,  0.47789413, -0.29518321, -0.41801699,\n",
       "        -0.17659445,  3.27418871,  0.62865426,  0.        ],\n",
       "       [ 0.27678925, -0.78938174, -0.15950708,  0.41169419,  0.19313443,\n",
       "         0.67064592, -0.61208112,  1.38161701,  1.        ],\n",
       "       [-0.99173133, -0.77414124, -0.6085852 ,  0.8833742 , -0.11244128,\n",
       "         0.73472292, -0.54059729,  0.2179473 ,  0.        ],\n",
       "       [ 1.54530982,  0.84135214,  0.80625232,  1.62238239, -0.21429985,\n",
       "         1.41109128,  0.2947424 ,  1.03936121,  0.        ],\n",
       "       [-0.21110328,  2.16945317, -0.59892761,  0.30501996,  0.70242729,\n",
       "        -0.01284211,  1.64599115,  0.42330078,  0.        ]])"
      ]
     },
     "execution_count": 367,
     "metadata": {},
     "output_type": "execute_result"
    }
   ],
   "source": [
    "X_new = np.array(X_new)\n",
    "X_new[0:5]"
   ]
  },
  {
   "cell_type": "markdown",
   "metadata": {},
   "source": [
    "### Randomly Initialising values of beta coefficient"
   ]
  },
  {
   "cell_type": "code",
   "execution_count": 368,
   "metadata": {},
   "outputs": [],
   "source": [
    "import random"
   ]
  },
  {
   "cell_type": "code",
   "execution_count": 369,
   "metadata": {},
   "outputs": [],
   "source": [
    "def initialize_betas(dim):\n",
    "    b = random.random()\n",
    "    w = np.random.rand(dim)\n",
    "    return b,w \n",
    "\n",
    "\n"
   ]
  },
  {
   "cell_type": "code",
   "execution_count": 370,
   "metadata": {},
   "outputs": [
    {
     "name": "stdout",
     "output_type": "stream",
     "text": [
      "0.8960157654039139 [ 0.84985226  0.007086    0.34106786  0.66847185  0.41309485  0.51672128\n",
      "  0.48573459  0.98215475  0.62231596]\n"
     ]
    }
   ],
   "source": [
    "b,w = initialize_betas(X_new.shape[1])\n",
    "print(b,w)"
   ]
  },
  {
   "cell_type": "code",
   "execution_count": 371,
   "metadata": {},
   "outputs": [
    {
     "data": {
      "text/plain": [
       "(9,)"
      ]
     },
     "execution_count": 371,
     "metadata": {},
     "output_type": "execute_result"
    }
   ],
   "source": [
    "\n",
    "w.shape"
   ]
  },
  {
   "cell_type": "markdown",
   "metadata": {},
   "source": [
    "### Q4.d) Define a sigmoid function to predict Y"
   ]
  },
  {
   "cell_type": "code",
   "execution_count": 372,
   "metadata": {},
   "outputs": [],
   "source": [
    "def sigmoid(b, w ,X_new):\n",
    "    Z = b + np.matmul(X_new,w)\n",
    "    return (1.0 / (1 + np.exp(-Z)))  "
   ]
  },
  {
   "cell_type": "code",
   "execution_count": 373,
   "metadata": {},
   "outputs": [
    {
     "data": {
      "text/plain": [
       "array([ 0.9762731 ,  0.9693723 ,  0.67157479,  0.9954104 ,  0.90294635])"
      ]
     },
     "execution_count": 373,
     "metadata": {},
     "output_type": "execute_result"
    }
   ],
   "source": [
    "y_hat = sigmoid(b,w,X_new)\n",
    "\n",
    "y_hat[0:5]"
   ]
  },
  {
   "cell_type": "code",
   "execution_count": 374,
   "metadata": {},
   "outputs": [
    {
     "data": {
      "text/plain": [
       "array([[1],\n",
       "       [1],\n",
       "       [0],\n",
       "       [1],\n",
       "       [1]], dtype=int64)"
      ]
     },
     "execution_count": 374,
     "metadata": {},
     "output_type": "execute_result"
    }
   ],
   "source": [
    "\n",
    "Y[0:5]"
   ]
  },
  {
   "cell_type": "code",
   "execution_count": 375,
   "metadata": {},
   "outputs": [
    {
     "data": {
      "text/plain": [
       "array([[1],\n",
       "       [1],\n",
       "       [0],\n",
       "       [1],\n",
       "       [1]], dtype=int64)"
      ]
     },
     "execution_count": 375,
     "metadata": {},
     "output_type": "execute_result"
    }
   ],
   "source": [
    "Y[0:5]"
   ]
  },
  {
   "cell_type": "markdown",
   "metadata": {},
   "source": [
    "### Q4.e)Define a function for calculating binary cross entropy loss function( Current cost RMSE)"
   ]
  },
  {
   "cell_type": "code",
   "execution_count": 376,
   "metadata": {},
   "outputs": [],
   "source": [
    "def get_cost( y, y_hat):\n",
    "      #return np.sum(np.dot(y.T,np.log(1-y_hat)+ np.dot((1-y).T,np.log(1-y_hat)))) / ( len(y))\n",
    "        return - np.sum(np.dot(y.T,np.log(1-y_hat)+ np.dot((1-y).T,np.log(1-y_hat)))) / ( len(y))"
   ]
  },
  {
   "cell_type": "code",
   "execution_count": 377,
   "metadata": {},
   "outputs": [
    {
     "data": {
      "text/plain": [
       "(462,)"
      ]
     },
     "execution_count": 377,
     "metadata": {},
     "output_type": "execute_result"
    }
   ],
   "source": [
    "# Reshape Y\n",
    "Y=Y.reshape(len(Y), )\n",
    "current_cost= get_cost(Y,y_hat)\n",
    "#print(current_cost)\n",
    "Y.shape"
   ]
  },
  {
   "cell_type": "markdown",
   "metadata": {},
   "source": [
    "### Q4.f)Define a function for updating beta values."
   ]
  },
  {
   "cell_type": "code",
   "execution_count": 378,
   "metadata": {},
   "outputs": [],
   "source": [
    "def update_beta (b_0, w_0 , y , y_hat, X_new, alpha):\n",
    "    db = np.sum( y_hat - y)/ len(y)\n",
    "    b_0 = b_0 - alpha * db\n",
    "    dw = np.dot((y_hat - y), X_new)/ len(y)\n",
    "    w_0 = w_0 - alpha * dw\n",
    "   \n",
    "   \n",
    "    return b_0,w_0\n",
    "    "
   ]
  },
  {
   "cell_type": "code",
   "execution_count": 379,
   "metadata": {},
   "outputs": [
    {
     "data": {
      "text/plain": [
       "numpy.ndarray"
      ]
     },
     "execution_count": 379,
     "metadata": {},
     "output_type": "execute_result"
    }
   ],
   "source": [
    "alpha = 0.1\n",
    "\n",
    "type(y_hat)\n",
    "#(X_new).shape"
   ]
  },
  {
   "cell_type": "code",
   "execution_count": 380,
   "metadata": {},
   "outputs": [
    {
     "data": {
      "text/plain": [
       "()"
      ]
     },
     "execution_count": 380,
     "metadata": {},
     "output_type": "execute_result"
    }
   ],
   "source": [
    "b,w = update_beta (b,w, Y, y_hat,X_new, alpha)\n",
    "\n",
    "b.shape"
   ]
  },
  {
   "cell_type": "code",
   "execution_count": 381,
   "metadata": {},
   "outputs": [
    {
     "data": {
      "text/plain": [
       "array([ 0.84100575,  0.00854911,  0.33785581,  0.65320828,  0.41470804,\n",
       "        0.5015432 ,  0.47879732,  0.97375224,  0.59986088])"
      ]
     },
     "execution_count": 381,
     "metadata": {},
     "output_type": "execute_result"
    }
   ],
   "source": [
    "#print(b,w)\n",
    "w"
   ]
  },
  {
   "cell_type": "markdown",
   "metadata": {},
   "source": [
    "### Q4.g)Write a code for gradient descent iterations\n"
   ]
  },
  {
   "cell_type": "code",
   "execution_count": 382,
   "metadata": {},
   "outputs": [
    {
     "name": "stdout",
     "output_type": "stream",
     "text": [
      "initial guess of b and w:  0.8353247915901182 [ 0.32558013  0.15019181  0.05624864  0.66679797  0.85000586  0.88265501\n",
      "  0.18850583  0.17482252  0.92079312]\n",
      "Iteration:  0 Cost:  174.83606148\n",
      "Iteration:  10 Cost:  57.919148463\n",
      "Iteration:  20 Cost:  40.2285676012\n",
      "Iteration:  30 Cost:  37.291091186\n",
      "Iteration:  40 Cost:  36.5836687903\n",
      "Iteration:  50 Cost:  36.3934722125\n",
      "Iteration:  60 Cost:  36.3572094208\n",
      "Iteration:  70 Cost:  36.373141613\n",
      "Iteration:  80 Cost:  36.4074128613\n",
      "Iteration:  90 Cost:  36.4472532479\n",
      "Iteration:  100 Cost:  36.4873578874\n",
      "Iteration:  110 Cost:  36.5253958889\n",
      "Iteration:  120 Cost:  36.5603611661\n",
      "Iteration:  130 Cost:  36.5918953885\n",
      "Iteration:  140 Cost:  36.6199762539\n",
      "Iteration:  150 Cost:  36.6447583367\n",
      "Iteration:  160 Cost:  36.6664853232\n",
      "Iteration:  170 Cost:  36.6854393761\n",
      "Iteration:  180 Cost:  36.7019114862\n",
      "Iteration:  190 Cost:  36.7161843512\n",
      "Iteration:  200 Cost:  36.7285229572\n",
      "Iteration:  210 Cost:  36.739169943\n",
      "Iteration:  220 Cost:  36.7483439162\n",
      "Iteration:  230 Cost:  36.7562395535\n",
      "Iteration:  240 Cost:  36.7630287346\n",
      "Iteration:  250 Cost:  36.7688622287\n",
      "Iteration:  260 Cost:  36.7738716306\n",
      "Iteration:  270 Cost:  36.7781713554\n",
      "Iteration:  280 Cost:  36.7818605802\n",
      "Iteration:  290 Cost:  36.7850250681\n",
      "Iteration:  300 Cost:  36.7877388409\n",
      "Iteration:  310 Cost:  36.79006569\n",
      "Iteration:  320 Cost:  36.7920605228\n",
      "Iteration:  330 Cost:  36.7937705537\n",
      "Iteration:  340 Cost:  36.7952363502\n",
      "Iteration:  350 Cost:  36.7964927463\n",
      "Iteration:  360 Cost:  36.7975696374\n",
      "Iteration:  370 Cost:  36.7984926704\n",
      "Iteration:  380 Cost:  36.7992838397\n",
      "Iteration:  390 Cost:  36.7999620026\n",
      "Iteration:  400 Cost:  36.8005433238\n",
      "Iteration:  410 Cost:  36.8010416572\n",
      "Iteration:  420 Cost:  36.8014688749\n",
      "Iteration:  430 Cost:  36.80183515\n",
      "Iteration:  440 Cost:  36.8021491989\n",
      "Iteration:  450 Cost:  36.8024184898\n",
      "Iteration:  460 Cost:  36.8026494214\n",
      "Iteration:  470 Cost:  36.8028474755\n",
      "Iteration:  480 Cost:  36.8030173491\n",
      "Iteration:  490 Cost:  36.8031630665\n",
      "Final estimates of b and q are:  -0.337946851952 [ 0.13329212  0.36454822  0.36021088  0.14441543  0.38872426 -0.26493324\n",
      "  0.00300481  0.6608445  -0.92507012]\n"
     ]
    }
   ],
   "source": [
    "num_iterations = 500\n",
    "alpha = 0.5\n",
    "\n",
    "all_costs = []\n",
    "b,w = initialize_betas(X_new.shape[1])\n",
    "print(\"initial guess of b and w: \" , b ,w)\n",
    "\n",
    "for each_iter in range (num_iterations ):\n",
    "    y_hat = sigmoid(b, w , X_new)\n",
    "    current_cost = get_cost (Y, y_hat)\n",
    "    prev_b = b\n",
    "    prev_w = w\n",
    "    b, w = update_beta (prev_b, prev_w, Y, y_hat, X_new, alpha)\n",
    "    all_costs.append(current_cost)\n",
    "    if each_iter % 10 == 0:\n",
    "        print('Iteration: ', each_iter, 'Cost: ', current_cost)\n",
    "        each_iter += 1\n",
    "    \n",
    "#print('b_0:', b_0, 'b_1:',b_1,'b_2:',b_2,'b_3:',b_3,'b_4:', b_4, 'b_5:',b_5,'b_6:',b_6,'b_7:',b_7,'b_8:',b_8,'b_9:',b_9)\n",
    "print(\"Final estimates of b and q are: \", b,w)"
   ]
  },
  {
   "cell_type": "markdown",
   "metadata": {},
   "source": [
    "### Q4.i) Use sklearn logistic regression API"
   ]
  },
  {
   "cell_type": "code",
   "execution_count": 383,
   "metadata": {},
   "outputs": [],
   "source": [
    "from sklearn.linear_model import LogisticRegression\n",
    "\n",
    "lreg = LogisticRegression()\n",
    "lmodel = lreg.fit(X_new, Y)"
   ]
  },
  {
   "cell_type": "code",
   "execution_count": 384,
   "metadata": {},
   "outputs": [
    {
     "data": {
      "text/plain": [
       "array([-0.34607535])"
      ]
     },
     "execution_count": 384,
     "metadata": {},
     "output_type": "execute_result"
    }
   ],
   "source": [
    "lmodel.intercept_"
   ]
  },
  {
   "cell_type": "code",
   "execution_count": 385,
   "metadata": {},
   "outputs": [
    {
     "data": {
      "text/plain": [
       "array([[ 0.13271423,  0.36108745,  0.35552458,  0.14227425,  0.37902825,\n",
       "        -0.2553132 ,  0.00384354,  0.6472839 , -0.88929133]])"
      ]
     },
     "execution_count": 385,
     "metadata": {},
     "output_type": "execute_result"
    }
   ],
   "source": [
    "lmodel.coef_"
   ]
  },
  {
   "cell_type": "code",
   "execution_count": 386,
   "metadata": {},
   "outputs": [],
   "source": [
    "import matplotlib.pyplot as plt\n",
    "import seaborn as sn\n",
    "%matplotlib inline"
   ]
  },
  {
   "cell_type": "code",
   "execution_count": 387,
   "metadata": {},
   "outputs": [
    {
     "data": {
      "text/plain": [
       "<matplotlib.collections.PathCollection at 0x258eb465c18>"
      ]
     },
     "execution_count": 387,
     "metadata": {},
     "output_type": "execute_result"
    },
    {
     "data": {
      "image/png": "[encoded data removed]",
      "text/plain": [
       "<matplotlib.figure.Figure at 0x258eb4920f0>"
      ]
     },
     "metadata": {},
     "output_type": "display_data"
    }
   ],
   "source": [
    "plt.scatter( range(num_iterations), all_costs)\n",
    "\n",
    "#len(range(each_iter))"
   ]
  },
  {
   "cell_type": "markdown",
   "metadata": {},
   "source": [
    "### Gradient descent is converging correctly for 500 iterations and with learning rate =0.5"
   ]
  },
  {
   "cell_type": "markdown",
   "metadata": {},
   "source": [
    "### Q4.h)Plot the cost function for different alpha values, 0.01,0.001,0.0001"
   ]
  },
  {
   "cell_type": "code",
   "execution_count": 388,
   "metadata": {},
   "outputs": [
    {
     "name": "stdout",
     "output_type": "stream",
     "text": [
      "initial guess of b and w:  0.2318990293496508 [ 0.30010052  0.5063377   0.00982512  0.20447131  0.54885084  0.9358087\n",
      "  0.84739827  0.43818134  0.51659621]\n",
      "Iteration:  0 Cost:  120.710265675\n",
      "Iteration:  10 Cost:  118.135774686\n",
      "Iteration:  20 Cost:  115.618556625\n",
      "Iteration:  30 Cost:  113.158495108\n",
      "Iteration:  40 Cost:  110.755431757\n",
      "Iteration:  50 Cost:  108.409165488\n",
      "Iteration:  60 Cost:  106.119451951\n",
      "Iteration:  70 Cost:  103.886003131\n",
      "Iteration:  80 Cost:  101.708487125\n",
      "Iteration:  90 Cost:  99.5865280893\n",
      "Iteration:  100 Cost:  97.5197063714\n",
      "Iteration:  110 Cost:  95.5075588266\n",
      "Iteration:  120 Cost:  93.5495793235\n",
      "Iteration:  130 Cost:  91.6452194375\n",
      "Iteration:  140 Cost:  89.7938893315\n",
      "Iteration:  150 Cost:  87.9949588227\n",
      "Iteration:  160 Cost:  86.2477586294\n",
      "Iteration:  170 Cost:  84.551581793\n",
      "Iteration:  180 Cost:  82.9056852679\n",
      "Iteration:  190 Cost:  81.3092916694\n",
      "Iteration:  200 Cost:  79.7615911695\n",
      "Iteration:  210 Cost:  78.2617435292\n",
      "Iteration:  220 Cost:  76.8088802525\n",
      "Iteration:  230 Cost:  75.402106849\n",
      "Iteration:  240 Cost:  74.0405051876\n",
      "Iteration:  250 Cost:  72.7231359275\n",
      "Iteration:  260 Cost:  71.4490410056\n",
      "Iteration:  270 Cost:  70.2172461655\n",
      "Iteration:  280 Cost:  69.0267635086\n",
      "Iteration:  290 Cost:  67.8765940486\n",
      "Iteration:  300 Cost:  66.7657302531\n",
      "Iteration:  310 Cost:  65.6931585536\n",
      "Iteration:  320 Cost:  64.6578618071\n",
      "Iteration:  330 Cost:  63.6588216944\n",
      "Iteration:  340 Cost:  62.6950210396\n",
      "Iteration:  350 Cost:  61.7654460382\n",
      "Iteration:  360 Cost:  60.8690883807\n",
      "Iteration:  370 Cost:  60.0049472641\n",
      "Iteration:  380 Cost:  59.1720312794\n",
      "Iteration:  390 Cost:  58.3693601715\n",
      "Iteration:  400 Cost:  57.5959664643\n",
      "Iteration:  410 Cost:  56.8508969493\n",
      "Iteration:  420 Cost:  56.1332140346\n",
      "Iteration:  430 Cost:  55.4419969555\n",
      "Iteration:  440 Cost:  54.7763428472\n",
      "Iteration:  450 Cost:  54.1353676822\n",
      "Iteration:  460 Cost:  53.518207077\n",
      "Iteration:  470 Cost:  52.924016971\n",
      "Iteration:  480 Cost:  52.3519741852\n",
      "Iteration:  490 Cost:  51.8012768653\n",
      "Iteration:  500 Cost:  51.2711448159\n",
      "Iteration:  510 Cost:  50.7608197339\n",
      "Iteration:  520 Cost:  50.2695653465\n",
      "Iteration:  530 Cost:  49.796667463\n",
      "Iteration:  540 Cost:  49.3414339458\n",
      "Iteration:  550 Cost:  48.903194609\n",
      "Iteration:  560 Cost:  48.4813010514\n",
      "Iteration:  570 Cost:  48.0751264299\n",
      "Iteration:  580 Cost:  47.6840651812\n",
      "Iteration:  590 Cost:  47.3075326965\n",
      "Iteration:  600 Cost:  46.9449649566\n",
      "Iteration:  610 Cost:  46.595818131\n",
      "Iteration:  620 Cost:  46.2595681485\n",
      "Iteration:  630 Cost:  45.9357102424\n",
      "Iteration:  640 Cost:  45.6237584751\n",
      "Iteration:  650 Cost:  45.3232452467\n",
      "Iteration:  660 Cost:  45.0337207909\n",
      "Iteration:  670 Cost:  44.7547526621\n",
      "Iteration:  680 Cost:  44.485925216\n",
      "Iteration:  690 Cost:  44.2268390872\n",
      "Iteration:  700 Cost:  43.9771106664\n",
      "Iteration:  710 Cost:  43.7363715787\n",
      "Iteration:  720 Cost:  43.5042681661\n",
      "Iteration:  730 Cost:  43.2804609741\n",
      "Iteration:  740 Cost:  43.0646242464\n",
      "Iteration:  750 Cost:  42.8564454274\n",
      "Iteration:  760 Cost:  42.655624673\n",
      "Iteration:  770 Cost:  42.4618743732\n",
      "Iteration:  780 Cost:  42.2749186842\n",
      "Iteration:  790 Cost:  42.0944930732\n",
      "Iteration:  800 Cost:  41.9203438749\n",
      "Iteration:  810 Cost:  41.7522278603\n",
      "Iteration:  820 Cost:  41.5899118189\n",
      "Iteration:  830 Cost:  41.4331721537\n",
      "Iteration:  840 Cost:  41.281794489\n",
      "Iteration:  850 Cost:  41.1355732917\n",
      "Iteration:  860 Cost:  40.9943115057\n",
      "Iteration:  870 Cost:  40.8578201988\n",
      "Iteration:  880 Cost:  40.7259182235\n",
      "Iteration:  890 Cost:  40.5984318894\n",
      "Iteration:  900 Cost:  40.4751946485\n",
      "Iteration:  910 Cost:  40.356046793\n",
      "Iteration:  920 Cost:  40.2408351643\n",
      "Iteration:  930 Cost:  40.1294128742\n",
      "Iteration:  940 Cost:  40.0216390374\n",
      "Iteration:  950 Cost:  39.9173785144\n",
      "Iteration:  960 Cost:  39.8165016656\n",
      "Iteration:  970 Cost:  39.7188841158\n",
      "Iteration:  980 Cost:  39.6244065277\n",
      "Iteration:  990 Cost:  39.5329543863\n",
      "Final estimates of b and q are:  -0.571225211953 [ 0.13382333  0.40066356  0.27211111 -0.11069025  0.35099126  0.12210874\n",
      "  0.11812001  0.60108125 -0.32683289]\n"
     ]
    }
   ],
   "source": [
    "# For alpha =0.01\n",
    "num_iterations = 1000\n",
    "alpha = 0.01\n",
    "\n",
    "all_costs = []\n",
    "b,w = initialize_betas(X_new.shape[1])\n",
    "print(\"initial guess of b and w: \" , b ,w)\n",
    "\n",
    "for each_iter in range (num_iterations ):\n",
    "    y_hat = sigmoid(b, w , X_new)\n",
    "    current_cost = get_cost (Y, y_hat)\n",
    "    prev_b = b\n",
    "    prev_w = w\n",
    "    b, w = update_beta (prev_b, prev_w, Y, y_hat, X_new, alpha)\n",
    "    all_costs.append(current_cost)\n",
    "    if each_iter % 10 == 0:\n",
    "        print('Iteration: ', each_iter, 'Cost: ', current_cost)\n",
    "        each_iter += 1\n",
    "    \n",
    "#print('b_0:', b_0, 'b_1:',b_1,'b_2:',b_2,'b_3:',b_3,'b_4:', b_4, 'b_5:',b_5,'b_6:',b_6,'b_7:',b_7,'b_8:',b_8,'b_9:',b_9)\n",
    "print(\"Final estimates of b and q are: \", b,w)"
   ]
  },
  {
   "cell_type": "code",
   "execution_count": 389,
   "metadata": {},
   "outputs": [],
   "source": [
    "lreg = LogisticRegression()\n",
    "lmodel = lreg.fit(X_new, Y)"
   ]
  },
  {
   "cell_type": "code",
   "execution_count": 390,
   "metadata": {},
   "outputs": [
    {
     "data": {
      "text/plain": [
       "array([-0.34607535])"
      ]
     },
     "execution_count": 390,
     "metadata": {},
     "output_type": "execute_result"
    }
   ],
   "source": [
    "lmodel.intercept_"
   ]
  },
  {
   "cell_type": "code",
   "execution_count": 391,
   "metadata": {},
   "outputs": [
    {
     "data": {
      "text/plain": [
       "array([[ 0.13271423,  0.36108745,  0.35552458,  0.14227425,  0.37902825,\n",
       "        -0.2553132 ,  0.00384354,  0.6472839 , -0.88929133]])"
      ]
     },
     "execution_count": 391,
     "metadata": {},
     "output_type": "execute_result"
    }
   ],
   "source": [
    "lmodel.coef_"
   ]
  },
  {
   "cell_type": "code",
   "execution_count": 392,
   "metadata": {},
   "outputs": [
    {
     "data": {
      "text/plain": [
       "<matplotlib.collections.PathCollection at 0x258eb5b38d0>"
      ]
     },
     "execution_count": 392,
     "metadata": {},
     "output_type": "execute_result"
    },
    {
     "data": {
      "image/png": "[encoded data removed]",
      "text/plain": [
       "<matplotlib.figure.Figure at 0x258eb4c69b0>"
      ]
     },
     "metadata": {},
     "output_type": "display_data"
    }
   ],
   "source": [
    "plt.scatter( range(num_iterations), all_costs)"
   ]
  },
  {
   "cell_type": "code",
   "execution_count": 393,
   "metadata": {},
   "outputs": [
    {
     "name": "stdout",
     "output_type": "stream",
     "text": [
      "initial guess of b and w:  0.7294438154690559 [ 0.59734361  0.67086596  0.86832378  0.27608188  0.7338499   0.28456086\n",
      "  0.83938735  0.32573262  0.26471948]\n",
      "Iteration:  0 Cost:  134.371979544\n",
      "Iteration:  10 Cost:  134.094583401\n",
      "Iteration:  20 Cost:  133.81776648\n",
      "Iteration:  30 Cost:  133.541528764\n",
      "Iteration:  40 Cost:  133.265870231\n",
      "Iteration:  50 Cost:  132.990790854\n",
      "Iteration:  60 Cost:  132.716290604\n",
      "Iteration:  70 Cost:  132.442369444\n",
      "Iteration:  80 Cost:  132.169027335\n",
      "Iteration:  90 Cost:  131.896264232\n",
      "Iteration:  100 Cost:  131.624080087\n",
      "Iteration:  110 Cost:  131.352474845\n",
      "Iteration:  120 Cost:  131.081448449\n",
      "Iteration:  130 Cost:  130.811000836\n",
      "Iteration:  140 Cost:  130.541131937\n",
      "Iteration:  150 Cost:  130.271841682\n",
      "Iteration:  160 Cost:  130.003129992\n",
      "Iteration:  170 Cost:  129.734996787\n",
      "Iteration:  180 Cost:  129.46744198\n",
      "Iteration:  190 Cost:  129.200465481\n",
      "Iteration:  200 Cost:  128.934067193\n",
      "Iteration:  210 Cost:  128.668247016\n",
      "Iteration:  220 Cost:  128.403004845\n",
      "Iteration:  230 Cost:  128.13834057\n",
      "Iteration:  240 Cost:  127.874254077\n",
      "Iteration:  250 Cost:  127.610745246\n",
      "Iteration:  260 Cost:  127.347813953\n",
      "Iteration:  270 Cost:  127.085460068\n",
      "Iteration:  280 Cost:  126.823683459\n",
      "Iteration:  290 Cost:  126.562483986\n",
      "Iteration:  300 Cost:  126.301861506\n",
      "Iteration:  310 Cost:  126.041815872\n",
      "Iteration:  320 Cost:  125.782346928\n",
      "Iteration:  330 Cost:  125.523454519\n",
      "Iteration:  340 Cost:  125.26513848\n",
      "Iteration:  350 Cost:  125.007398645\n",
      "Iteration:  360 Cost:  124.750234841\n",
      "Iteration:  370 Cost:  124.493646891\n",
      "Iteration:  380 Cost:  124.237634611\n",
      "Iteration:  390 Cost:  123.982197816\n",
      "Iteration:  400 Cost:  123.727336313\n",
      "Iteration:  410 Cost:  123.473049904\n",
      "Iteration:  420 Cost:  123.219338389\n",
      "Iteration:  430 Cost:  122.966201561\n",
      "Iteration:  440 Cost:  122.713639208\n",
      "Iteration:  450 Cost:  122.461651112\n",
      "Iteration:  460 Cost:  122.210237054\n",
      "Iteration:  470 Cost:  121.959396806\n",
      "Iteration:  480 Cost:  121.709130137\n",
      "Iteration:  490 Cost:  121.45943681\n",
      "Iteration:  500 Cost:  121.210316586\n",
      "Iteration:  510 Cost:  120.961769216\n",
      "Iteration:  520 Cost:  120.713794451\n",
      "Iteration:  530 Cost:  120.466392033\n",
      "Iteration:  540 Cost:  120.219561703\n",
      "Iteration:  550 Cost:  119.973303194\n",
      "Iteration:  560 Cost:  119.727616235\n",
      "Iteration:  570 Cost:  119.48250055\n",
      "Iteration:  580 Cost:  119.237955859\n",
      "Iteration:  590 Cost:  118.993981876\n",
      "Iteration:  600 Cost:  118.75057831\n",
      "Iteration:  610 Cost:  118.507744864\n",
      "Iteration:  620 Cost:  118.26548124\n",
      "Iteration:  630 Cost:  118.023787131\n",
      "Iteration:  640 Cost:  117.782662226\n",
      "Iteration:  650 Cost:  117.542106209\n",
      "Iteration:  660 Cost:  117.302118762\n",
      "Iteration:  670 Cost:  117.062699557\n",
      "Iteration:  680 Cost:  116.823848266\n",
      "Iteration:  690 Cost:  116.585564551\n",
      "Iteration:  700 Cost:  116.347848074\n",
      "Iteration:  710 Cost:  116.110698488\n",
      "Iteration:  720 Cost:  115.874115445\n",
      "Iteration:  730 Cost:  115.638098587\n",
      "Iteration:  740 Cost:  115.402647557\n",
      "Iteration:  750 Cost:  115.167761988\n",
      "Iteration:  760 Cost:  114.933441511\n",
      "Iteration:  770 Cost:  114.699685752\n",
      "Iteration:  780 Cost:  114.466494329\n",
      "Iteration:  790 Cost:  114.233866859\n",
      "Iteration:  800 Cost:  114.001802953\n",
      "Iteration:  810 Cost:  113.770302215\n",
      "Iteration:  820 Cost:  113.539364247\n",
      "Iteration:  830 Cost:  113.308988643\n",
      "Iteration:  840 Cost:  113.079174997\n",
      "Iteration:  850 Cost:  112.849922892\n",
      "Iteration:  860 Cost:  112.62123191\n",
      "Iteration:  870 Cost:  112.393101629\n",
      "Iteration:  880 Cost:  112.165531618\n",
      "Iteration:  890 Cost:  111.938521445\n",
      "Iteration:  900 Cost:  111.712070672\n",
      "Iteration:  910 Cost:  111.486178855\n",
      "Iteration:  920 Cost:  111.260845547\n",
      "Iteration:  930 Cost:  111.036070294\n",
      "Iteration:  940 Cost:  110.81185264\n",
      "Iteration:  950 Cost:  110.588192122\n",
      "Iteration:  960 Cost:  110.365088273\n",
      "Iteration:  970 Cost:  110.142540621\n",
      "Iteration:  980 Cost:  109.92054869\n",
      "Iteration:  990 Cost:  109.699111998\n",
      "Final estimates of b and q are:  0.485109748743 [ 0.5336149   0.64299074  0.81061938  0.1833422   0.68479928  0.17199385\n",
      "  0.73468988  0.30624066  0.08603164]\n"
     ]
    }
   ],
   "source": [
    "# For alpha =0.001\n",
    "num_iterations = 1000\n",
    "alpha = 0.001\n",
    "\n",
    "all_costs = []\n",
    "b,w = initialize_betas(X_new.shape[1])\n",
    "print(\"initial guess of b and w: \" , b ,w)\n",
    "\n",
    "for each_iter in range (num_iterations ):\n",
    "    y_hat = sigmoid(b, w , X_new)\n",
    "    current_cost = get_cost (Y, y_hat)\n",
    "    prev_b = b\n",
    "    prev_w = w\n",
    "    b, w = update_beta (prev_b, prev_w, Y, y_hat, X_new, alpha)\n",
    "    all_costs.append(current_cost)\n",
    "    if each_iter % 10 == 0:\n",
    "        print('Iteration: ', each_iter, 'Cost: ', current_cost)\n",
    "        each_iter += 1\n",
    "    \n",
    "#print('b_0:', b_0, 'b_1:',b_1,'b_2:',b_2,'b_3:',b_3,'b_4:', b_4, 'b_5:',b_5,'b_6:',b_6,'b_7:',b_7,'b_8:',b_8,'b_9:',b_9)\n",
    "print(\"Final estimates of b and q are: \", b,w)"
   ]
  },
  {
   "cell_type": "code",
   "execution_count": 394,
   "metadata": {},
   "outputs": [],
   "source": [
    "lreg = LogisticRegression()\n",
    "lmodel = lreg.fit(X_new, Y)"
   ]
  },
  {
   "cell_type": "code",
   "execution_count": 395,
   "metadata": {},
   "outputs": [
    {
     "data": {
      "text/plain": [
       "array([-0.34607535])"
      ]
     },
     "execution_count": 395,
     "metadata": {},
     "output_type": "execute_result"
    }
   ],
   "source": [
    "lmodel.intercept_"
   ]
  },
  {
   "cell_type": "code",
   "execution_count": 396,
   "metadata": {},
   "outputs": [
    {
     "data": {
      "text/plain": [
       "array([[ 0.13271423,  0.36108745,  0.35552458,  0.14227425,  0.37902825,\n",
       "        -0.2553132 ,  0.00384354,  0.6472839 , -0.88929133]])"
      ]
     },
     "execution_count": 396,
     "metadata": {},
     "output_type": "execute_result"
    }
   ],
   "source": [
    "lmodel.coef_"
   ]
  },
  {
   "cell_type": "code",
   "execution_count": 397,
   "metadata": {},
   "outputs": [
    {
     "data": {
      "text/plain": [
       "<matplotlib.collections.PathCollection at 0x258eb657b00>"
      ]
     },
     "execution_count": 397,
     "metadata": {},
     "output_type": "execute_result"
    },
    {
     "data": {
      "image/png": "[encoded data removed]",
      "text/plain": [
       "<matplotlib.figure.Figure at 0x258eb56f780>"
      ]
     },
     "metadata": {},
     "output_type": "display_data"
    }
   ],
   "source": [
    "plt.scatter( range(num_iterations), all_costs)"
   ]
  },
  {
   "cell_type": "code",
   "execution_count": 398,
   "metadata": {},
   "outputs": [
    {
     "name": "stdout",
     "output_type": "stream",
     "text": [
      "initial guess of b and w:  0.7044580777991666 [ 0.33722566  0.95853115  0.17093125  0.32539402  0.22878796  0.55476354\n",
      "  0.57966459  0.85406286  0.1538005 ]\n",
      "Iteration:  0 Cost:  130.909272223\n",
      "Iteration:  10 Cost:  130.880492717\n",
      "Iteration:  20 Cost:  130.851719164\n",
      "Iteration:  30 Cost:  130.822951564\n",
      "Iteration:  40 Cost:  130.794189918\n",
      "Iteration:  50 Cost:  130.765434226\n",
      "Iteration:  60 Cost:  130.736684488\n",
      "Iteration:  70 Cost:  130.707940705\n",
      "Iteration:  80 Cost:  130.679202878\n",
      "Iteration:  90 Cost:  130.650471007\n",
      "Iteration:  100 Cost:  130.621745091\n",
      "Iteration:  110 Cost:  130.593025133\n",
      "Iteration:  120 Cost:  130.564311131\n",
      "Iteration:  130 Cost:  130.535603087\n",
      "Iteration:  140 Cost:  130.506901001\n",
      "Iteration:  150 Cost:  130.478204873\n",
      "Iteration:  160 Cost:  130.449514705\n",
      "Iteration:  170 Cost:  130.420830495\n",
      "Iteration:  180 Cost:  130.392152245\n",
      "Iteration:  190 Cost:  130.363479955\n",
      "Iteration:  200 Cost:  130.334813625\n",
      "Iteration:  210 Cost:  130.306153257\n",
      "Iteration:  220 Cost:  130.27749885\n",
      "Iteration:  230 Cost:  130.248850404\n",
      "Iteration:  240 Cost:  130.220207921\n",
      "Iteration:  250 Cost:  130.1915714\n",
      "Iteration:  260 Cost:  130.162940843\n",
      "Iteration:  270 Cost:  130.134316248\n",
      "Iteration:  280 Cost:  130.105697618\n",
      "Iteration:  290 Cost:  130.077084952\n",
      "Iteration:  300 Cost:  130.048478251\n",
      "Iteration:  310 Cost:  130.019877514\n",
      "Iteration:  320 Cost:  129.991282744\n",
      "Iteration:  330 Cost:  129.962693939\n",
      "Iteration:  340 Cost:  129.934111101\n",
      "Iteration:  350 Cost:  129.905534229\n",
      "Iteration:  360 Cost:  129.876963325\n",
      "Iteration:  370 Cost:  129.848398388\n",
      "Iteration:  380 Cost:  129.81983942\n",
      "Iteration:  390 Cost:  129.79128642\n",
      "Iteration:  400 Cost:  129.762739388\n",
      "Iteration:  410 Cost:  129.734198326\n",
      "Iteration:  420 Cost:  129.705663234\n",
      "Iteration:  430 Cost:  129.677134112\n",
      "Iteration:  440 Cost:  129.64861096\n",
      "Iteration:  450 Cost:  129.620093779\n",
      "Iteration:  460 Cost:  129.59158257\n",
      "Iteration:  470 Cost:  129.563077333\n",
      "Iteration:  480 Cost:  129.534578067\n",
      "Iteration:  490 Cost:  129.506084774\n",
      "Final estimates of b and q are:  0.691491342635 [ 0.33381908  0.95582556  0.17005106  0.31873494  0.23032469  0.5478567\n",
      "  0.5748931   0.84944589  0.1448717 ]\n"
     ]
    }
   ],
   "source": [
    "# For alpha =0.0001\n",
    "num_iterations = 500\n",
    "alpha = 0.0001\n",
    "\n",
    "all_costs = []\n",
    "b,w = initialize_betas(X_new.shape[1])\n",
    "print(\"initial guess of b and w: \" , b ,w)\n",
    "\n",
    "for each_iter in range (num_iterations ):\n",
    "    y_hat = sigmoid(b, w , X_new)\n",
    "    current_cost = get_cost (Y, y_hat)\n",
    "    prev_b = b\n",
    "    prev_w = w\n",
    "    b, w = update_beta (prev_b, prev_w, Y, y_hat, X_new, alpha)\n",
    "    all_costs.append(current_cost)\n",
    "    if each_iter % 10 == 0:\n",
    "        print('Iteration: ', each_iter, 'Cost: ', current_cost)\n",
    "        each_iter += 1\n",
    "    \n",
    "#print('b_0:', b_0, 'b_1:',b_1,'b_2:',b_2,'b_3:',b_3,'b_4:', b_4, 'b_5:',b_5,'b_6:',b_6,'b_7:',b_7,'b_8:',b_8,'b_9:',b_9)\n",
    "print(\"Final estimates of b and q are: \", b,w)"
   ]
  },
  {
   "cell_type": "code",
   "execution_count": 399,
   "metadata": {},
   "outputs": [],
   "source": [
    "lreg = LogisticRegression()\n",
    "lmodel = lreg.fit(X_new, Y)"
   ]
  },
  {
   "cell_type": "code",
   "execution_count": 400,
   "metadata": {},
   "outputs": [
    {
     "data": {
      "text/plain": [
       "array([-0.34607535])"
      ]
     },
     "execution_count": 400,
     "metadata": {},
     "output_type": "execute_result"
    }
   ],
   "source": [
    "lmodel.intercept_"
   ]
  },
  {
   "cell_type": "code",
   "execution_count": 401,
   "metadata": {},
   "outputs": [
    {
     "data": {
      "text/plain": [
       "array([[ 0.13271423,  0.36108745,  0.35552458,  0.14227425,  0.37902825,\n",
       "        -0.2553132 ,  0.00384354,  0.6472839 , -0.88929133]])"
      ]
     },
     "execution_count": 401,
     "metadata": {},
     "output_type": "execute_result"
    }
   ],
   "source": [
    "lmodel.coef_"
   ]
  },
  {
   "cell_type": "code",
   "execution_count": 402,
   "metadata": {},
   "outputs": [
    {
     "data": {
      "text/plain": [
       "<matplotlib.collections.PathCollection at 0x258eb6e7278>"
      ]
     },
     "execution_count": 402,
     "metadata": {},
     "output_type": "execute_result"
    },
    {
     "data": {
      "image/png": "[encoded data removed]",
      "text/plain": [
       "<matplotlib.figure.Figure at 0x258eb5e7710>"
      ]
     },
     "metadata": {},
     "output_type": "display_data"
    }
   ],
   "source": [
    "plt.scatter( range(num_iterations), all_costs)"
   ]
  },
  {
   "cell_type": "code",
   "execution_count": null,
   "metadata": {},
   "outputs": [],
   "source": []
  },
  {
   "cell_type": "code",
   "execution_count": null,
   "metadata": {},
   "outputs": [],
   "source": []
  }
 ],
 "metadata": {
  "kernelspec": {
   "display_name": "Python 3",
   "language": "python",
   "name": "python3"
  },
  "language_info": {
   "codemirror_mode": {
    "name": "ipython",
    "version": 3
   },
   "file_extension": ".py",
   "mimetype": "text/x-python",
   "name": "python",
   "nbconvert_exporter": "python",
   "pygments_lexer": "ipython3",
   "version": "3.6.1"
  }
 },
 "nbformat": 4,
 "nbformat_minor": 2
}
